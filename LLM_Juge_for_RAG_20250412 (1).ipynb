{
  "nbformat": 4,
  "nbformat_minor": 0,
  "metadata": {
    "colab": {
      "provenance": []
    },
    "kernelspec": {
      "name": "python3",
      "display_name": "Python 3"
    },
    "language_info": {
      "name": "python"
    }
  },
  "cells": [
    {
      "cell_type": "markdown",
      "source": [
        "# **LLM Juge - RAG : April 2025**"
      ],
      "metadata": {
        "id": "1z1ewmbWgQTu"
      }
    },
    {
      "cell_type": "markdown",
      "source": [
        "Making an LLM JUge to co;pare the quality of the answers given by a RAG.\n",
        "The RAg is based on GPT 4.o\n",
        "The Juge is based on Llama3\n"
      ],
      "metadata": {
        "id": "jt5V0B-7gbS0"
      }
    },
    {
      "cell_type": "markdown",
      "source": [
        "**Import** **environmement**"
      ],
      "metadata": {
        "id": "B1xXwGF8g4qG"
      }
    },
    {
      "cell_type": "code",
      "source": [
        "import os\n",
        "os.environ[\"CUDA_DEVICE_ORDER\"] = \"PCI_BUS_ID\"\n",
        "os.environ[\"CUDA_VISIBLE_DEVICES\"] = \"1\" # Revenir à \"0\" plus tard\n",
        "os.environ['HF_HOME']=\"/work/LLM_models/HF_HOME\""
      ],
      "metadata": {
        "id": "rtFTtgVKg1vE"
      },
      "execution_count": null,
      "outputs": []
    },
    {
      "cell_type": "code",
      "source": [
        "import pandas as pd\n",
        "import numpy as np"
      ],
      "metadata": {
        "id": "D6Hnbk0rngK_"
      },
      "execution_count": null,
      "outputs": []
    },
    {
      "cell_type": "code",
      "source": [
        "!pip install langchain_community"
      ],
      "metadata": {
        "id": "sJanG7qVh6d3"
      },
      "execution_count": null,
      "outputs": []
    },
    {
      "cell_type": "code",
      "source": [
        "!pip install ragatouille\n",
        "!pip install colbert"
      ],
      "metadata": {
        "id": "5Fbb4LEniRq0"
      },
      "execution_count": null,
      "outputs": []
    },
    {
      "cell_type": "code",
      "source": [
        "!pip install --upgrade transformers\n",
        "!pip install --upgrade ragatouille\n",
        "!pip install --upgrade colbert"
      ],
      "metadata": {
        "id": "Ku4x-zFljBxS"
      },
      "execution_count": null,
      "outputs": []
    },
    {
      "cell_type": "code",
      "source": [
        "!pip uninstall colbert ragatouille -y\n",
        "!pip install ragatouille"
      ],
      "metadata": {
        "id": "Omo75F1qkdO0"
      },
      "execution_count": null,
      "outputs": []
    },
    {
      "cell_type": "code",
      "source": [
        "from langchain_community.vectorstores import Chroma\n",
        "from langchain_community.chat_models import ChatOllama\n",
        "from langchain_community.embeddings import OllamaEmbeddings\n",
        "from langchain_core.output_parsers import StrOutputParser\n",
        "from langchain_core.prompts import ChatPromptTemplate\n",
        "from langchain_community.embeddings.fastembed import FastEmbedEmbeddings\n",
        "from langchain_community.vectorstores import FAISS\n",
        "from langchain.embeddings.huggingface import HuggingFaceEmbeddings\n",
        "from langchain_community.embeddings.sentence_transformer import (\n",
        "    SentenceTransformerEmbeddings,\n",
        ")\n",
        "\n",
        "from langchain_community.document_loaders import BSHTMLLoader\n",
        "from langchain.text_splitter import RecursiveCharacterTextSplitter\n",
        "from langchain_community.document_transformers import Html2TextTransformer\n",
        "from langchain.schema.runnable import RunnablePassthrough\n",
        "from langchain_core.runnables import RunnableParallel\n",
        "#===================================================================================================================\n",
        "# Message history management\n",
        "from langchain.chains import create_history_aware_retriever, create_retrieval_chain\n",
        "from langchain.chains.combine_documents import create_stuff_documents_chain\n",
        "from langchain_community.chat_message_histories import ChatMessageHistory\n",
        "from langchain_core.chat_history import BaseChatMessageHistory\n",
        "from langchain_core.prompts import ChatPromptTemplate, MessagesPlaceholder\n",
        "from langchain_core.runnables.history import RunnableWithMessageHistory\n",
        "#===================================================================================================================\n",
        "from langchain.prompts import PromptTemplate\n",
        "from langchain.vectorstores.utils import filter_complex_metadata\n",
        "\n",
        "#### ERROR ###\n",
        "#from ragatouille import RAGPretrainedModel\n",
        "#RAG.search(\"How many people live in France?\")\n",
        "\n",
        "from langchain_core.vectorstores import VectorStore\n",
        "from langchain_core.language_models.llms import LLM\n",
        "\n",
        "from tqdm import tqdm\n",
        "from glob import glob"
      ],
      "metadata": {
        "id": "ctj4YmmShHj8"
      },
      "execution_count": null,
      "outputs": []
    },
    {
      "cell_type": "markdown",
      "source": [
        "**LLM Juge : Llama3**"
      ],
      "metadata": {
        "id": "5aVMw2Mwme0A"
      }
    },
    {
      "cell_type": "code",
      "source": [
        " llama3_8b = ChatOllama(model=\"llama3:instruct\",\n",
        "                   base_url = \"http://10.179.0.20:5911\", # Pour aller interroger l'Ollama à distance (via GPU) / Plus besoin de faire le choix des GPU en début de notebook !?\n",
        "                   temperature=0.0) #local_llm"
      ],
      "metadata": {
        "colab": {
          "base_uri": "https://localhost:8080/"
        },
        "id": "tieAXXCymdq4",
        "outputId": "0005a38d-e842-48d3-e4dd-e535f384a444"
      },
      "execution_count": null,
      "outputs": [
        {
          "output_type": "stream",
          "name": "stderr",
          "text": [
            "<ipython-input-21-8fcc79500578>:1: LangChainDeprecationWarning: The class `ChatOllama` was deprecated in LangChain 0.3.1 and will be removed in 1.0.0. An updated version of the class exists in the :class:`~langchain-ollama package and should be used instead. To use it run `pip install -U :class:`~langchain-ollama` and import as `from :class:`~langchain_ollama import ChatOllama``.\n",
            "  llama3_8b = ChatOllama(model=\"llama3:instruct\",\n"
          ]
        }
      ]
    },
    {
      "cell_type": "markdown",
      "source": [
        "**Import QA Dataset**"
      ],
      "metadata": {
        "id": "v97d_ZN7nt2f"
      }
    },
    {
      "cell_type": "markdown",
      "source": [
        "We extracted a sample of 500 questions asked by real users and aanswers generated by the RAG"
      ],
      "metadata": {
        "id": "Aqxrmx3VmDKQ"
      }
    },
    {
      "cell_type": "code",
      "source": [
        "docs = pd.read_csv('transactions_20250404 (1).csv')"
      ],
      "metadata": {
        "id": "sAIsNwhpnw_n"
      },
      "execution_count": null,
      "outputs": []
    },
    {
      "cell_type": "markdown",
      "source": [],
      "metadata": {
        "id": "DPv4gtjzmpSq"
      }
    },
    {
      "cell_type": "markdown",
      "source": [
        "**Set Up critique agent**"
      ],
      "metadata": {
        "id": "4sDUM_N-mu4x"
      }
    },
    {
      "cell_type": "markdown",
      "source": [
        "The questions can have many flaws. A quality check is done using critique agents that will rate each question on several criteria:\n",
        "- Groundedness: can the question be answered from the given context?\n",
        "- Relevance: is the question relevant to users?\n",
        "- Stand-alone: is the question understandable free of any context, for someone with domain knowledge?\n",
        "\n",
        "Each agent will received a score.\n",
        "Questions with score at any agent will be dropped of the evaluation dataset.\n",
        "\n",
        "When asking the agents to output a score, we first ask them to produce its rationale. This will help us verify scores, but most importantly, asking it to first output rationale gives the model more tokens to think and elaborate an answer before summarizing it into a single score token."
      ],
      "metadata": {
        "id": "Tj4E3k-dnFnw"
      }
    },
    {
      "cell_type": "code",
      "source": [
        "question_groundedness_critique_prompt = \"\"\"\n",
        "You will be given a context and a question.\n",
        "Your task is to provide a 'total rating' scoring how well one can answer the given question unambiguously with the given context.\n",
        "Give your answer on a scale of 1 to 5, where 1 means that the question is not answerable at all given the context, and 5 means that the question is clearly and unambiguously answerable with the context.\n",
        "\n",
        "Provide your answer as follows:\n",
        "\n",
        "Answer:::\n",
        "Evaluation: (your rationale for the rating, as a text)\n",
        "Total rating: (your rating, as a number between 1 and 5)\n",
        "\n",
        "You MUST provide values for 'Evaluation:' and 'Total rating:' in your answer.\n",
        "\n",
        "Now here are the question and context.\n",
        "\n",
        "Question: {question}\\n\n",
        "Context: {context}\\n\n",
        "Answer::: \"\"\"\n",
        "\n",
        "question_relevance_critique_prompt = \"\"\"\n",
        "You will be given a question.\n",
        "Your task is to provide a 'total rating' representing how useful this question can be to a user specialized in writing commercial proposition who wishes to have answers about Thales and products developed by Thales.\n",
        "Give your answer on a scale of 1 to 5, where 1 means that the question is not useful at all, and 5 means that the question is extremely useful.\n",
        "\n",
        "Provide your answer as follows:\n",
        "\n",
        "Answer:::\n",
        "Evaluation: (your rationale for the rating, as a text)\n",
        "Total rating: (your rating, as a number between 1 and 5)\n",
        "\n",
        "You MUST provide values for 'Evaluation:' and 'Total rating:' in your answer.\n",
        "\n",
        "Now here is the question.\n",
        "\n",
        "Question: {question}\\n\n",
        "Answer::: \"\"\"\n",
        "\n",
        "question_standalone_critique_prompt = \"\"\"\n",
        "You will be given a question.\n",
        "Your task is to provide a 'total rating' representing how context-independant this question is.\n",
        "Give your answer on a scale of 1 to 5, where 1 means that the question depends on additional information to be understood, and 5 means that the question makes sense by itself.\n",
        "For instance, if the question refers to a particular setting, like 'in the context' or 'in the document', the rating must be 1.\n",
        "The questions can contain obscure technical nouns or acronyms like WCC, CfRx button, HCI  or TAHS and still be a 5: it must simply be clear to an operator with access to documentation what the question is about.\n",
        "\n",
        "Provide your answer as follows:\n",
        "\n",
        "Answer:::\n",
        "Evaluation: (your rationale for the rating, as a text)\n",
        "Total rating: (your rating, as a number between 1 and 5)\n",
        "\n",
        "You MUST provide values for 'Evaluation:' and 'Total rating:' in your answer.\n",
        "\n",
        "Now here is the question.\n",
        "\n",
        "Question: {question}\\n\n",
        "Answer::: \"\"\"\n"
      ],
      "metadata": {
        "id": "pHqJgogZo3S-"
      },
      "execution_count": null,
      "outputs": []
    }
  ]
}